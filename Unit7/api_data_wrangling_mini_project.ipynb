{
 "cells": [
  {
   "cell_type": "markdown",
   "metadata": {},
   "source": [
    "This exercise will require you to pull some data from https://data.nasdaq.com/ (formerly Quandl API)."
   ]
  },
  {
   "cell_type": "markdown",
   "metadata": {},
   "source": [
    "As a first step, you will need to register a free account on the https://data.nasdaq.com/ website."
   ]
  },
  {
   "cell_type": "markdown",
   "metadata": {},
   "source": [
    "After you register, you will be provided with a unique API key, that you should store:\n",
    "\n",
    "*Note*: Use a `.env` file and put your key in there and `python-dotenv` to access it in this notebook. \n",
    "\n",
    "The code below uses a key that was used when generating this project but has since been deleted. Never submit your keys to source control. There is a `.env-example` file in this repository to illusrtate what you need. Copy that to a file called `.env` and use your own api key in that `.env` file. Make sure you also have a `.gitignore` file with a line for `.env` added to it. \n",
    "\n",
    "The standard Python gitignore is [here](https://github.com/github/gitignore/blob/master/Python.gitignore) you can just copy that. "
   ]
  },
  {
   "cell_type": "code",
   "execution_count": 1,
   "metadata": {},
   "outputs": [],
   "source": [
    "# get api key from your .env file\n",
    "import os\n",
    "from dotenv import load_dotenv\n",
    "\n",
    "load_dotenv()\n",
    "API_KEY = os.getenv('NASDAQ_API_KEY')"
   ]
  },
  {
   "cell_type": "markdown",
   "metadata": {},
   "source": [
    "Nasdaq Data has a large number of data sources, but, unfortunately, most of them require a Premium subscription. Still, there are also a good number of free datasets."
   ]
  },
  {
   "cell_type": "markdown",
   "metadata": {},
   "source": [
    "For this mini project, we will focus on equities data from the Frankfurt Stock Exhange (FSE), which is available for free. We'll try and analyze the stock prices of a company called Carl Zeiss Meditec, which manufactures tools for eye examinations, as well as medical lasers for laser eye surgery: https://www.zeiss.com/meditec/int/home.html. The company is listed under the stock ticker AFX_X."
   ]
  },
  {
   "cell_type": "markdown",
   "metadata": {},
   "source": [
    "You can find the detailed Nasdaq Data API instructions here: https://docs.data.nasdaq.com/docs/in-depth-usage"
   ]
  },
  {
   "cell_type": "markdown",
   "metadata": {},
   "source": [
    "While there is a dedicated Python package for connecting to the Nasdaq API, we would prefer that you use the *requests* package, which can be easily downloaded using *pip* or *conda*. You can find the documentation for the package here: http://docs.python-requests.org/en/master/ "
   ]
  },
  {
   "cell_type": "markdown",
   "metadata": {},
   "source": [
    "Finally, apart from the *requests* package, you are encouraged to not use any third party Python packages, such as *pandas*, and instead focus on what's available in the Python Standard Library (the *collections* module might come in handy: https://pymotw.com/3/collections/).\n",
    "Also, since you won't have access to DataFrames, you are encouraged to us Python's native data structures - preferably dictionaries, though some questions can also be answered using lists.\n",
    "You can read more on these data structures here: https://docs.python.org/3/tutorial/datastructures.html"
   ]
  },
  {
   "cell_type": "markdown",
   "metadata": {},
   "source": [
    "Keep in mind that the JSON responses you will be getting from the API map almost one-to-one to Python's dictionaries. Unfortunately, they can be very nested, so make sure you read up on indexing dictionaries in the documentation provided above."
   ]
  },
  {
   "cell_type": "code",
   "execution_count": 16,
   "metadata": {},
   "outputs": [],
   "source": [
    "# First, import the relevant modules\n",
    "import requests\n",
    "import os\n",
    "from dotenv import load_dotenv"
   ]
  },
  {
   "cell_type": "markdown",
   "metadata": {},
   "source": [
    "Note: API's can change a bit with each version, for this exercise it is reccomended to use the nasdaq api at `https://data.nasdaq.com/api/v3/`. This is the same api as what used to be quandl so `https://www.quandl.com/api/v3/` should work too.\n",
    "\n",
    "Hint: We are looking for the `AFX_X` data on the `datasets/FSE/` dataset."
   ]
  },
  {
   "cell_type": "code",
   "execution_count": 17,
   "metadata": {},
   "outputs": [],
   "source": [
    "# Now, call the Nasdaq API and pull out a small sample of the data (only one day) to get a glimpse\n",
    "# into the JSON structure that will be returned\n",
    "response=requests.get(\"https://data.nasdaq.com/api/v3/datasets/FSE/AFX_X\",params={'api_key': API_KEY,\n",
    "    'start_date': '2020-01-01',\n",
    "    'end_date': '2020-01-01'})\n",
    "json_data=response.json()"
   ]
  },
  {
   "cell_type": "code",
   "execution_count": 18,
   "metadata": {},
   "outputs": [
    {
     "name": "stdout",
     "output_type": "stream",
     "text": [
      "{'dataset': {'id': 10095370, 'dataset_code': 'AFX_X', 'database_code': 'FSE', 'name': 'Carl Zeiss Meditec (AFX_X)', 'description': 'Stock Prices for Carl Zeiss Meditec (2020-11-02) from the Frankfurt Stock Exchange.<br><br>Trading System: Xetra<br><br>ISIN: DE0005313704', 'refreshed_at': '2020-12-01T14:48:09.907Z', 'newest_available_date': '2020-12-01', 'oldest_available_date': '2000-06-07', 'column_names': ['Date', 'Open', 'High', 'Low', 'Close', 'Change', 'Traded Volume', 'Turnover', 'Last Price of the Day', 'Daily Traded Units', 'Daily Turnover'], 'frequency': 'daily', 'type': 'Time Series', 'premium': False, 'limit': None, 'transform': None, 'column_index': None, 'start_date': '2020-01-01', 'end_date': '2020-01-01', 'data': [], 'collapse': None, 'order': None, 'database_id': 6129}}\n"
     ]
    }
   ],
   "source": [
    "# Inspect the JSON structure of the object you created, and take note of how nested it is,\n",
    "# as well as the overall structure\n",
    "print(json_data)"
   ]
  },
  {
   "cell_type": "markdown",
   "metadata": {},
   "source": [
    "These are your tasks for this mini project:\n",
    "\n",
    "1. Collect data from the Franfurt Stock Exchange, for the ticker AFX_X, for the whole year 2017 (keep in mind that the date format is YYYY-MM-DD).\n",
    "2. Convert the returned JSON object into a Python dictionary.\n",
    "3. Calculate what the highest and lowest opening prices were for the stock in this period.\n",
    "4. What was the largest change in any one day (based on High and Low price)?\n",
    "5. What was the largest change between any two days (based on Closing Price)?\n",
    "6. What was the average daily trading volume during this year?\n",
    "7. (Optional) What was the median trading volume during this year. (Note: you may need to implement your own function for calculating the median.)"
   ]
  },
  {
   "cell_type": "code",
   "execution_count": 19,
   "metadata": {},
   "outputs": [],
   "source": [
    "# Collect data for the whole year 2017\n",
    "r=requests.get(\"https://data.nasdaq.com/api/v3/datasets/FSE/AFX_X\",params={'api_key': API_KEY,\n",
    "    'start_date': '2017-01-01',\n",
    "    'end_date': '2017-12-31'})\n",
    "d=r.json()\n",
    "N_data=d['dataset']"
   ]
  },
  {
   "cell_type": "code",
   "execution_count": 20,
   "metadata": {},
   "outputs": [],
   "source": [
    "data=list(N_data['data'])"
   ]
  },
  {
   "cell_type": "code",
   "execution_count": 21,
   "metadata": {},
   "outputs": [],
   "source": [
    "# Extract opening prices and find the highest and lowest opening prices\n",
    "opening_price=[row[1] for row in data ]"
   ]
  },
  {
   "cell_type": "code",
   "execution_count": 22,
   "metadata": {},
   "outputs": [
    {
     "name": "stdout",
     "output_type": "stream",
     "text": [
      "The highest opening price is found on the date of 2017-12-14 and its value is 53.11\n"
     ]
    }
   ],
   "source": [
    "highest_opening_price=max([d for d in opening_price if d is not None])\n",
    "highest_opening_price_index=opening_price.index(highest_opening_price)\n",
    "date_highest_opening_price=data[highest_opening_price_index][0]\n",
    "print(f\"The highest opening price is found on the date of {date_highest_opening_price} and its value is {highest_opening_price}\")"
   ]
  },
  {
   "cell_type": "code",
   "execution_count": 23,
   "metadata": {},
   "outputs": [
    {
     "name": "stdout",
     "output_type": "stream",
     "text": [
      "The lowest opening price is found on the date of 2017-01-24 and its value is 34.0\n"
     ]
    }
   ],
   "source": [
    "lowest_opening_price=min([d for d in opening_price if d is not None])\n",
    "lowest_opening_price_index=opening_price.index(lowest_opening_price)\n",
    "date_lowest_opening_price=data[lowest_opening_price_index][0]\n",
    "print(f\"The lowest opening price is found on the date of {date_lowest_opening_price} and its value is {lowest_opening_price}\")"
   ]
  },
  {
   "cell_type": "code",
   "execution_count": 24,
   "metadata": {},
   "outputs": [
    {
     "name": "stdout",
     "output_type": "stream",
     "text": [
      "The largest change in any one day is found on the date of 2017-05-11 and its value is 2.8100000000000023\n"
     ]
    }
   ],
   "source": [
    "# Calculate the largest change in any one day based on High and Low price\n",
    "high_price=[row[2] for row in data]\n",
    "low_price=[row[3] for row in data]\n",
    "diff=[high - low for high, low in zip(high_price, low_price)]\n",
    "largest_day_change_index=diff.index(max(diff))\n",
    "date_largest_day_change=data[largest_day_change_index][0]\n",
    "print(f\"The largest change in any one day is found on the date of {date_largest_day_change} and its value is {max(diff)}\")"
   ]
  },
  {
   "cell_type": "code",
   "execution_count": 25,
   "metadata": {
    "scrolled": true
   },
   "outputs": [],
   "source": [
    "# Calculate the largest change between any two days based on Closing Price\n",
    "close_price=[row[4] for row in data]"
   ]
  },
  {
   "cell_type": "code",
   "execution_count": 26,
   "metadata": {},
   "outputs": [],
   "source": [
    "change=[0]*254\n",
    "for n in range(len(close_price)-1):\n",
    "    change[n]=close_price[n+1]-close_price[n]"
   ]
  },
  {
   "cell_type": "code",
   "execution_count": 27,
   "metadata": {},
   "outputs": [
    {
     "name": "stdout",
     "output_type": "stream",
     "text": [
      "The largest change between two days is found between 2017-08-08 and 2017-08-09 and its value is 2.559999999999995\n"
     ]
    }
   ],
   "source": [
    "largest_change_two_days=max([abs(a) for a in change])\n",
    "largest_change_two_days_index=change.index(largest_change_two_days)\n",
    "date_largest_change_two_days=data[largest_change_two_days_index][0]\n",
    "print(f\"The largest change between two days is found between {data[largest_change_two_days_index+1][0]} and {date_largest_change_two_days} and its value is {largest_change_two_days}\")"
   ]
  },
  {
   "cell_type": "code",
   "execution_count": 28,
   "metadata": {},
   "outputs": [
    {
     "name": "stdout",
     "output_type": "stream",
     "text": [
      "The average daily trading volume is: 89124.33725490196\n"
     ]
    }
   ],
   "source": [
    "# Calculate the average daily trading volume\n",
    "daily_trading_volume=[row[6] for row in data]\n",
    "average_daily_trading=sum(daily_trading_volume)/len(daily_trading_volume)\n",
    "print(f\"The average daily trading volume is: {average_daily_trading}\")"
   ]
  },
  {
   "cell_type": "code",
   "execution_count": 29,
   "metadata": {},
   "outputs": [
    {
     "name": "stdout",
     "output_type": "stream",
     "text": [
      "The median trading Volume: 76286.0\n"
     ]
    }
   ],
   "source": [
    "#function to calculate the median\n",
    "def calculate_median(data):\n",
    "    sorted_data = sorted(data)\n",
    "    n = len(sorted_data)\n",
    "    if n % 2 == 0:\n",
    "        return (sorted_data[n // 2 - 1] + sorted_data[n // 2]) / 2\n",
    "    else:\n",
    "        return sorted_data[n // 2]\n",
    "\n",
    "# Calculate and print the median trading volume\n",
    "median_volume = calculate_median(daily_trading_volume)\n",
    "print(f\"The median trading Volume: {median_volume}\")\n"
   ]
  },
  {
   "cell_type": "markdown",
   "metadata": {},
   "source": [
    "Summary: The opening prices for the stock revealed a highest value of 53.11 on 2017-12-14 and a lowest value of 34.0 on 2017-01-24. Daily price changes were examined, highlighting the largest change in any one day on 2017-05-11, with a value of 2.81, and the largest change between any two consecutive days, occurring between 2017-08-08 and 2017-08-09, with a value of 2.56.\n",
    "Additionally, the average daily trading volume for the year was calculated to be approximately 89,124.34. Furthermore, the median trading volume, determined to be 76,286.0."
   ]
  }
 ],
 "metadata": {
  "interpreter": {
   "hash": "7635eb1b9d0fe97add78a7368b6b431c09bb8ad5c42e437d64abdd99821c31ae"
  },
  "kernelspec": {
   "display_name": "Python 3 (ipykernel)",
   "language": "python",
   "name": "python3"
  },
  "language_info": {
   "codemirror_mode": {
    "name": "ipython",
    "version": 3
   },
   "file_extension": ".py",
   "mimetype": "text/x-python",
   "name": "python",
   "nbconvert_exporter": "python",
   "pygments_lexer": "ipython3",
   "version": "3.11.5"
  }
 },
 "nbformat": 4,
 "nbformat_minor": 4
}
