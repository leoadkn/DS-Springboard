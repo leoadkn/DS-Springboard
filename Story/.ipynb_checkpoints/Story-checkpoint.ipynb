{
 "cells": [
  {
   "cell_type": "markdown",
   "id": "34383765",
   "metadata": {},
   "source": [
    "# Introduction\n",
    "Understanding income distribution within a population is crucial for grasping the broader economic and social dynamics at play. By analyzing the income variable across various dimensions—gender, race, geography, age, and education, among others—we gain insights into the underlying factors that contribute to financial disparities and economic opportunities. This exploration not only sheds light on the quantitative aspects of income distribution but also uncovers the qualitative narratives behind these numbers, such as the impact of societal structures, labor market trends, and educational attainment on financial well-being. Through a series of visual analyses and statistical overviews, we delve into the multifaceted influences on income levels, providing a comprehensive picture of the economic landscape and the pathways to financial success or challenge within the dataset."
   ]
  },
  {
   "cell_type": "markdown",
   "id": "0d0d7c08",
   "metadata": {},
   "source": [
    "### Income Distribution Overview\n",
    "\n",
    "As we embark on this exploration of income distribution, our first step is to visualize the overarching trends within our dataset, setting the stage for a deeper dive into the specifics of income disparities.\n",
    "\n",
    "![Local Image](income.png)\n",
    "\n",
    "The bar chart above illustrates the overall distribution of the \"income\" variable within the dataset, with blue representing individuals earning <=50K and red for those earning >50K. From the chart, we can observe:\n",
    "\n",
    "- **Majority in Lower Income Bracket**: A significant majority of the population, approximately 76%, falls within the <=50K income bracket. This highlights the skewed distribution towards lower income levels within the dataset.\n",
    "- **Smaller Proportion Earning More**: About 24% of individuals are in the >50K income bracket, indicating a smaller yet notable segment of the population achieving higher earnings."
   ]
  },
  {
   "cell_type": "markdown",
   "id": "c6731fb1",
   "metadata": {},
   "source": [
    "#### Income and Demographics: Gender\n",
    "\n",
    "Having observed the general landscape of income distribution, it's crucial to dissect these patterns further to understand the role of gender in shaping these economic contours.\n",
    "\n",
    "![Local Image](gender.png)\n",
    "The countplot illustrates the income distribution across gender lines, revealing several key insights:\n",
    "\n",
    "- **Gender Disparity:** There's a noticeable gender disparity in both income categories. In the '<=50K' income bracket, males outnumber females, but the disparity is even more pronounced in the '>50K' category, where the number of males significantly exceeds that of females. This indicates that males are more likely to be in the higher income bracket, highlighting potential gender inequalities in income.\n",
    "\n",
    "- **Reflection of Broader Trends:** The observed gender disparity in income distribution may reflect broader societal and labor market trends, such as wage gaps, differences in occupational fields, and disparities in career advancement opportunities.\n",
    "\n",
    "\n",
    "#### Income and Demographics: Race\n",
    "Beyond gender, racial and ethnic identities play a pivotal role in the economic narratives we uncover, revealing layers of disparity and opportunity within the fabric of income distribution.\n",
    "\n",
    "![Local Image](race.png)\n",
    "\n",
    "The income distribution by race reveals several significant insights:\n",
    "\n",
    "- **Predominance of White Race:** The 'White' race category shows the highest counts in both income brackets, which is likely reflective of the demographic composition of the dataset's population. While there is a considerable number in the '<=50K' category, the 'White' race also has a significant presence in the '>50K' category, suggesting relatively better income opportunities or outcomes within this group.\n",
    "\n",
    "- **Disparities Among Races:** Other racial groups, such as 'Black', 'Asian-Pac-Islander', 'Amer-Indian-Eskimo', and 'Other', show varying distributions. Notably, the 'Asian-Pac-Islander' group has a relatively higher proportion of individuals in the '>50K' category compared to other non-White groups, indicating potential socioeconomic differences among races.\n",
    "\n",
    "- **Underrepresentation in Higher Income Bracket:** Except for the 'White' and 'Asian-Pac-Islander' races, other racial groups are notably underrepresented in the '>50K' income bracket, highlighting potential racial disparities in income distribution.\n",
    "\n",
    "These observations underscore the importance of considering race in discussions about income equality and economic opportunity.\n",
    "\n",
    "#### Income and Geographical Variation\n",
    "\n",
    "While race offers one lens through which to view income disparities, geographical factors introduce another dimension, highlighting the diversity of economic experiences across different regions and countries.\n",
    "\n",
    "![Local Image](country.png)\n",
    "\n",
    "The income distribution by native country (focusing on the top 10 non-US countries) presents an interesting perspective:\n",
    "\n",
    "- **Varied Distribution Across Countries:** There's noticeable variability in income distribution across different countries, reflecting the diverse economic opportunities and societal structures present in these regions.\n",
    "\n",
    "- **Dominance of Lower Income Bracket:** In most of the represented countries, the majority of individuals fall into the '<=50K' income bracket, consistent with the overall distribution trend seen in the dataset. This suggests that lower income levels are more common globally, not just within the US.\n",
    "\n",
    "- **Notable Exceptions:** Some countries, such as 'Canada' and 'Germany', show a relatively higher proportion of individuals in the '>50K' income bracket compared to other non-US countries, indicating potentially higher income opportunities in these regions.\n",
    "\n",
    "This analysis highlights the impact of geographical factors on income, suggesting that the country of origin or residence can significantly influence economic outcomes.\n",
    "\n"
   ]
  },
  {
   "cell_type": "markdown",
   "id": "b2e8f3b5",
   "metadata": {},
   "source": [
    "### Age Distribution by Income Level\n",
    "\n",
    "Transitioning from the macroscopic view of geography, we delve into the age-related dynamics within income distribution, tracing the arc of financial well-being across the lifespan.\n",
    "\n",
    "![Local Image](age.png)\n",
    "\n",
    "The histogram above vividly illustrates the age distribution across different income levels. A few key insights emerge:\n",
    "\n",
    "- **Youth Predominance in Lower Income**: The blue bars, representing individuals earning <=50K, dominate the younger age groups. This could reflect entry-level positions or early career stages with lower compensation.\n",
    "- **Peak Earning Ages**: There's a noticeable shift towards the red bars (indicating income >50K) as age increases, peaking in the 40-50 age range. This aligns with the career progression where individuals accumulate experience, skills, and thus, higher earnings.\n",
    "- **Decline in High Income with Age**: Post-50, there's a gradual decrease in the proportion of individuals earning >50K. This could be indicative of retirement or a shift towards less demanding roles.\n",
    "\n",
    "This graph not only highlights the correlation between age and income but also prompts a deeper reflection on career development, earning potential over a lifespan, and the economic implications of aging."
   ]
  },
  {
   "cell_type": "markdown",
   "id": "ba0ce86b",
   "metadata": {},
   "source": [
    "### Percentage Distribution of Income by Education Level\n",
    "The intersection of age and income naturally leads us to consider the impact of education, a key driver in shaping one's economic trajectory and unlocking doors to financial advancement.\n",
    "\n",
    "![Local Image](education.png)\n",
    "\n",
    "The horizontal bar chart provides a nuanced view of how income levels distribute across different education levels, with each bar representing an education level and the color segments showing the proportion of individuals within each income bracket.\n",
    "\n",
    "- **Higher Education, Higher Income**: There's a clear trend where higher education levels correspond with a higher percentage of individuals in the >50K income bracket. Notably, advanced degrees like Doctorate, Professional, and Master's show a significant majority earning above 50K, underscoring the value of advanced education in achieving financial success.\n",
    "- **Basic Education, Lower Income**: At the lower end of the education spectrum, such as Less_than_High_School and High_School_or_Below, there's a predominant leaning towards the <=50K income bracket. This highlights the financial limitations associated with lower education levels.\n",
    "- **Middle Education Levels**: For education levels like Some-college and Associate, there's a more balanced distribution, though still skewed towards the <=50K income bracket. This indicates a moderate impact of mid-level education on income potential.\n",
    "\n",
    "This analysis not only reaffirms the significant impact of education on income but also provides insights into the potential for economic mobility through educational advancement. It paints a picture of the societal structure where education serves as both a gateway and a barrier to higher income levels, emphasizing the critical role of educational policies and access in shaping economic opportunities."
   ]
  },
  {
   "cell_type": "markdown",
   "id": "bea5c7f0",
   "metadata": {},
   "source": [
    "### Income Distribution by Occupation\n",
    "With the foundational role of education established, the focus shifts to the professional realm, where occupation types offer a window into the varied economic landscapes individuals navigate.\n",
    "\n",
    "![Local Image](occupation.png)\n",
    "\n",
    "The count plot illustrates the distribution of income across various occupations, with blue representing individuals earning <=50K and red for those earning >50K. This visualization unveils several key narratives:\n",
    "\n",
    "- **Variation Across Occupations**: There's a noticeable variation in income distribution across different occupations. Certain roles, such as 'Exec-managerial' and 'Prof-specialty', have a significant portion of individuals in the >50K income bracket, highlighting the lucrative nature of these positions.\n",
    "- **Challenges in Manual Labor**: Occupations like 'Handlers-cleaners', 'Farming-fishing', and 'Machine-op-inspct' predominantly fall within the <=50K income category, reflecting the economic challenges faced by workers in these sectors.\n",
    "- **Tech and Specialty Roles**: It's evident that roles requiring specialized skills or technical expertise tend to have a higher likelihood of falling into the higher income bracket, underscoring the value of skill-based education and training.\n",
    "\n",
    "This analysis not only sheds light on the economic dynamics across various job roles but also emphasizes the importance of skill development and career choices in achieving financial success."
   ]
  },
  {
   "cell_type": "markdown",
   "id": "a315eb14",
   "metadata": {},
   "source": [
    "### Hours Worked Per Week by Income Level\n",
    "Occupational insights pave the way for examining another crucial aspect of income distribution: the correlation between hours worked and income levels, revealing the complex interplay between effort, time, and financial reward.\"\n",
    "\n",
    "![Local Image](hours.png)\n",
    "\n",
    "This histogram provides a vivid depiction of the number of hours worked per week across two income levels, with blue representing individuals earning <=50K and red for those earning >50K. Several insights can be drawn:\n",
    "\n",
    "- **Standard Workweek**: The bulk of individuals, irrespective of income level, adhere to the standard 40-hour workweek. This is reflected in the significant peaks for both income brackets around the 40-hour mark.\n",
    "- **Beyond Standard Hours**: There's a notable segment of individuals working more than the standard workweek hours, particularly in the >50K income bracket. This suggests that higher income levels might sometimes be associated with longer working hours, hinting at the sacrifices or commitments required to achieve higher financial status.\n",
    "- **Variability in Working Hours**: The distribution also shows individuals across a wide range of working hours, indicating diverse work arrangements, job roles, and personal choices in the workforce.\n",
    "\n",
    "This analysis underscores the complex relationship between work hours and income, highlighting the trade-offs between work-life balance and financial success. It also prompts further reflection on the societal and personal implications of working hours in the pursuit of higher income."
   ]
  },
  {
   "cell_type": "markdown",
   "id": "de620b14",
   "metadata": {},
   "source": [
    "#### Statistical Overview of Income Groups\n",
    "The statistical summary provides a clear contrast between the two income groups, defined by key variables:\n",
    "\n",
    "- **Age:**\n",
    "  - Individuals in the '>50K' group have a higher average (mean) and median age (44.28 and 43 years, respectively) compared to those in the '<=50K' group (36.88 and 34 years, respectively). This reinforces the idea that age, reflecting experience and career progression, is a significant factor in achieving higher income levels.\n",
    "\n",
    "- **Education Level (Ordinal):**\n",
    "  - The education level, converted to an ordinal scale for analysis, shows a higher mean and median for the '>50K' income group (11.17 and 11, respectively) compared to the '<=50K' group (9.95 and 9, respectively). This highlights the impact of higher education attainment in crossing the '>50K' income threshold.\n",
    "\n",
    "- **Hours Worked Per Week:**\n",
    "  - The average hours worked per week are notably higher for the '>50K' group (45.45 hours) than for the '<=50K' group (38.84 hours), with the median for the higher income group still at the standard 40-hour workweek. This suggests that, on average, individuals earning '>50K' tend to work longer hours, although a significant portion still adheres to the standard workweek.\n",
    "\n",
    "This statistical overview, combined with the demographic and geographical analyses, offers a comprehensive deep dive into the income variable, revealing the multifaceted factors that influence income levels. These insights underscore the complex interplay between demographic attributes, education, work hours, and geographical background in shaping economic outcomes."
   ]
  }
 ],
 "metadata": {
  "kernelspec": {
   "display_name": "Python 3 (ipykernel)",
   "language": "python",
   "name": "python3"
  },
  "language_info": {
   "codemirror_mode": {
    "name": "ipython",
    "version": 3
   },
   "file_extension": ".py",
   "mimetype": "text/x-python",
   "name": "python",
   "nbconvert_exporter": "python",
   "pygments_lexer": "ipython3",
   "version": "3.11.5"
  }
 },
 "nbformat": 4,
 "nbformat_minor": 5
}
